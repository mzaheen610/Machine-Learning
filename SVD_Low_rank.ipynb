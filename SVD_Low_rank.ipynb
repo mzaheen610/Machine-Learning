{
  "nbformat": 4,
  "nbformat_minor": 0,
  "metadata": {
    "colab": {
      "provenance": [],
      "authorship_tag": "ABX9TyOEYT6n2f359CQhpF3pZZFv",
      "include_colab_link": true
    },
    "kernelspec": {
      "name": "python3",
      "display_name": "Python 3"
    },
    "language_info": {
      "name": "python"
    }
  },
  "cells": [
    {
      "cell_type": "markdown",
      "metadata": {
        "id": "view-in-github",
        "colab_type": "text"
      },
      "source": [
        "<a href=\"https://colab.research.google.com/github/mzaheen610/Machine-Learning/blob/main/SVD_Low_rank.ipynb\" target=\"_parent\"><img src=\"https://colab.research.google.com/assets/colab-badge.svg\" alt=\"Open In Colab\"/></a>"
      ]
    },
    {
      "cell_type": "markdown",
      "source": [
        "**SVD** Implementation example using python and **numpy**\n",
        "\n",
        "---\n",
        "Formula for SVD of an mxn matrix **A**.\n",
        "\n",
        "#       A = U∑Vᵀ\n",
        "  \n",
        "Where,\n",
        "\n",
        "U = Orthogonal mxm matrix with eigenvectors of AAᵀ as its columns\n",
        "\n",
        "V = Orthogonal nxn matrix with eigenvectors of AAᵀ as its columns\n",
        "\n",
        "Σ = Diagonal matrix with singular values as the diagonal elements.\n",
        "\n",
        "Λ = Eigenvectors of **AAᵀ**/**AᵀA**\n",
        "\n",
        "σ = Λ½ (Singular Value of A)"
      ],
      "metadata": {
        "id": "SGHEQMu874FK"
      }
    },
    {
      "cell_type": "code",
      "source": [
        "import numpy as np\n",
        "np.set_printoptions(precision=3)"
      ],
      "metadata": {
        "id": "JNIwU9_JTYrJ"
      },
      "execution_count": null,
      "outputs": []
    },
    {
      "cell_type": "code",
      "execution_count": null,
      "metadata": {
        "id": "wTh43SkQN3vZ",
        "colab": {
          "base_uri": "https://localhost:8080/"
        },
        "outputId": "427210ab-9920-4b90-e29a-d0449a044b5d"
      },
      "outputs": [
        {
          "output_type": "stream",
          "name": "stdout",
          "text": [
            "[[1 2 3 4]\n",
            " [1 1 2 3]\n",
            " [0 1 1 0]]\n",
            "Dimension of A : (3, 4)\n",
            "U : [[ 0.81  0.09 -0.58]\n",
            " [ 0.57 -0.35  0.74]\n",
            " [ 0.13  0.93  0.34]]\n",
            "S : [6.75 1.17 0.22]\n",
            "V : [[ 0.2   0.34  0.55  0.73]\n",
            " [-0.22  0.66  0.44 -0.57]\n",
            " [ 0.76 -0.34  0.42 -0.36]\n",
            " [-0.58 -0.58  0.58  0.  ]]\n"
          ]
        }
      ],
      "source": [
        "A = np.array([[1,2,3,4],[1,1,2,3],[0,1,1,0]])\n",
        "print(A)\n",
        "print(f\"Dimension of A : {A.shape}\")\n",
        "\n",
        "u,s,vh = np.linalg.svd(A)\n",
        "print(f\"U : {u}\")\n",
        "print(f\"S : {s}\")\n",
        "print(f\"V : {vh}\")\n"
      ]
    },
    {
      "cell_type": "markdown",
      "source": [
        "Here Sigma is given as a 3 element numpy array. (It should have a size of mxn.)To reshape it we can use,\n"
      ],
      "metadata": {
        "id": "gSBgI-PoVGRv"
      }
    },
    {
      "cell_type": "code",
      "source": [
        "sigma = np.diag(s)\n",
        "print(sigma)\n",
        "sigma.shape\n",
        "b = np.zeros((3,4))\n",
        "b[:3,:3] = sigma\n",
        "sigma = b\n",
        "print(sigma)"
      ],
      "metadata": {
        "colab": {
          "base_uri": "https://localhost:8080/"
        },
        "id": "1tot1TDLVT3N",
        "outputId": "d010dc5b-6a8a-4b60-ae63-3b57684403e8"
      },
      "execution_count": null,
      "outputs": [
        {
          "output_type": "stream",
          "name": "stdout",
          "text": [
            "[[6.75 0.   0.  ]\n",
            " [0.   1.17 0.  ]\n",
            " [0.   0.   0.22]]\n",
            "[[6.75 0.   0.   0.  ]\n",
            " [0.   1.17 0.   0.  ]\n",
            " [0.   0.   0.22 0.  ]]\n"
          ]
        }
      ]
    },
    {
      "cell_type": "markdown",
      "source": [],
      "metadata": {
        "id": "gWc2C9u-WPwj"
      }
    },
    {
      "cell_type": "code",
      "source": [
        "\n",
        "print(u.dot(u.T)) #Veryfing if U is orthogonal\n",
        "print(vh.dot(vh.T)) #Veryfying if V is orthogonal"
      ],
      "metadata": {
        "colab": {
          "base_uri": "https://localhost:8080/"
        },
        "id": "ZA1Z9FOJUJNr",
        "outputId": "0bafdde0-a983-4f77-fede-5a13f6bc21fa"
      },
      "execution_count": null,
      "outputs": [
        {
          "output_type": "stream",
          "name": "stdout",
          "text": [
            "[[ 1.  0.  0.]\n",
            " [ 0.  1. -0.]\n",
            " [ 0. -0.  1.]]\n",
            "[[ 1.  0. -0.  0.]\n",
            " [ 0.  1.  0.  0.]\n",
            " [-0.  0.  1.  0.]\n",
            " [ 0.  0.  0.  1.]]\n"
          ]
        }
      ]
    },
    {
      "cell_type": "markdown",
      "source": [
        "***Reconstruction of the array A from its SVD arrays:***"
      ],
      "metadata": {
        "id": "fIjZCBotW9n3"
      }
    },
    {
      "cell_type": "code",
      "source": [
        "original_matrix = np.dot(np.dot(u,sigma),vh)\n",
        "print(original_matrix, \"\\n\\nSuccess!\")"
      ],
      "metadata": {
        "colab": {
          "base_uri": "https://localhost:8080/"
        },
        "id": "DSguuOzMXIk5",
        "outputId": "0daa9885-277b-4bcd-e661-4eb28a9db1a4"
      },
      "execution_count": null,
      "outputs": [
        {
          "output_type": "stream",
          "name": "stdout",
          "text": [
            "[[ 1.  2.  3.  4.]\n",
            " [ 1.  1.  2.  3.]\n",
            " [ 0.  1.  1. -0.]] \n",
            "\n",
            "Success!\n"
          ]
        }
      ]
    },
    {
      "cell_type": "markdown",
      "source": [
        "To calculate the 2-rank approximation of A, we have to reduce the number of singular values in sigma to 2.\n",
        "\n",
        "Then,\n",
        "\n",
        "sigma will be a 2x2 matrix,\n",
        "\n",
        "u - 3x2 matrix\n",
        "\n",
        "v - 2x4 matrix\n",
        "\n"
      ],
      "metadata": {
        "id": "4nP4FCMlZlIJ"
      }
    },
    {
      "cell_type": "code",
      "source": [
        "# print(s)\n",
        "s = [6.75, 1.17]\n",
        "sigma = np.zeros((2,2))\n",
        "sigma[:2,:2] = np.diag(s)\n",
        "print(sigma)\n",
        "#slicing u and v\n",
        "u = u[:,:2]\n",
        "vh = vh[:2,:]\n",
        "print(u)\n",
        "print(vh)\n",
        "print(u.shape, sigma.shape, vh.shape)"
      ],
      "metadata": {
        "colab": {
          "base_uri": "https://localhost:8080/"
        },
        "id": "Nj_mGfJcZkdz",
        "outputId": "0a240819-95e3-4077-b339-50e0db9baeef"
      },
      "execution_count": null,
      "outputs": [
        {
          "output_type": "stream",
          "name": "stdout",
          "text": [
            "[[6.75 0.  ]\n",
            " [0.   1.17]]\n",
            "[[ 0.81  0.09]\n",
            " [ 0.57 -0.35]\n",
            " [ 0.13  0.93]]\n",
            "[[ 0.2   0.34  0.55  0.73]\n",
            " [-0.22  0.66  0.44 -0.57]]\n",
            "(3, 2) (2, 2) (2, 4)\n"
          ]
        }
      ]
    },
    {
      "cell_type": "markdown",
      "source": [
        "Then the Low rank (ie 2 rank) approximation of A will be:"
      ],
      "metadata": {
        "id": "t8TTNW_leiuE"
      }
    },
    {
      "cell_type": "code",
      "source": [
        "A = np.dot(np.dot(u,sigma),vh)\n",
        "print(A)"
      ],
      "metadata": {
        "colab": {
          "base_uri": "https://localhost:8080/"
        },
        "id": "UrKYefbua54N",
        "outputId": "8349b134-21f6-461f-bbc8-41e542884c06"
      },
      "execution_count": null,
      "outputs": [
        {
          "output_type": "stream",
          "name": "stdout",
          "text": [
            "[[ 1.096  1.956  3.052  3.954]\n",
            " [ 0.876  1.056  1.932  3.058]\n",
            " [-0.055  1.023  0.968  0.028]]\n"
          ]
        }
      ]
    },
    {
      "cell_type": "markdown",
      "source": [],
      "metadata": {
        "id": "2NQyONI7ehNK"
      }
    }
  ]
}